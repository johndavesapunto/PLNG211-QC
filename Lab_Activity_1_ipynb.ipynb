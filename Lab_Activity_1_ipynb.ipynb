{
  "nbformat": 4,
  "nbformat_minor": 0,
  "metadata": {
    "colab": {
      "provenance": [],
      "authorship_tag": "ABX9TyPPiy/fyCGeCYROHyW055wC",
      "include_colab_link": true
    },
    "kernelspec": {
      "name": "python3",
      "display_name": "Python 3"
    },
    "language_info": {
      "name": "python"
    }
  },
  "cells": [
    {
      "cell_type": "markdown",
      "metadata": {
        "id": "view-in-github",
        "colab_type": "text"
      },
      "source": [
        "<a href=\"https://colab.research.google.com/github/johndavesapunto/PLNG211-QC/blob/main/Lab_Activity_1_ipynb.ipynb\" target=\"_parent\"><img src=\"https://colab.research.google.com/assets/colab-badge.svg\" alt=\"Open In Colab\"/></a>"
      ]
    },
    {
      "cell_type": "code",
      "execution_count": null,
      "metadata": {
        "id": "R87vJZHFaXmQ",
        "colab": {
          "base_uri": "https://localhost:8080/"
        },
        "outputId": "3550169a-7335-44ea-d30e-ee057aeb2a8a"
      },
      "outputs": [
        {
          "output_type": "stream",
          "name": "stdout",
          "text": [
            "[1, 2, 3, 4, 5, 6, 7, 8, 9, 10]\n",
            "55\n"
          ]
        }
      ],
      "source": [
        "#1.\n",
        "\n",
        "# Create an array of 10 integers\n",
        "arr = [1, 2, 3, 4, 5, 6, 7, 8, 9, 10]\n",
        "\n",
        "# Print the array\n",
        "print(arr)\n",
        "\n",
        "# Compute the sum of the elements in the array\n",
        "sum = 0\n",
        "for i in range(len(arr)):\n",
        "    sum += arr[i]\n",
        "\n",
        "# Print the sum\n",
        "print(sum)"
      ]
    },
    {
      "cell_type": "code",
      "source": [
        "#2.\n",
        "\n",
        "# Original array\n",
        "numbers = [1, 2, 3, 4, 5, 6, 7, 8, 9, 10]\n",
        "\n",
        "# Append new item to the end of the array\n",
        "numbers.append(11)\n",
        "\n",
        "# Print the updated array\n",
        "print(numbers)"
      ],
      "metadata": {
        "colab": {
          "base_uri": "https://localhost:8080/"
        },
        "id": "b_55vA7wedY3",
        "outputId": "b1d4584c-30cd-417c-bcf5-0473d45d9b17"
      },
      "execution_count": null,
      "outputs": [
        {
          "output_type": "stream",
          "name": "stdout",
          "text": [
            "[1, 2, 3, 4, 5, 6, 7, 8, 9, 10, 11]\n"
          ]
        }
      ]
    },
    {
      "cell_type": "code",
      "source": [
        "#3.\n",
        "\n",
        "# Original array\n",
        "numbers = [1, 2, 3, 4, 5, 6, 7, 8, 9, 10]\n",
        "\n",
        "# Insert new item before the second element in the array\n",
        "numbers.insert(1, 0)\n",
        "\n",
        "# Print the updated array\n",
        "print(numbers)"
      ],
      "metadata": {
        "colab": {
          "base_uri": "https://localhost:8080/"
        },
        "id": "hyIVQdCKexaP",
        "outputId": "8e6eca65-b01d-4f7a-c0f5-6ba2ca1741bf"
      },
      "execution_count": null,
      "outputs": [
        {
          "output_type": "stream",
          "name": "stdout",
          "text": [
            "[1, 0, 2, 3, 4, 5, 6, 7, 8, 9, 10]\n"
          ]
        }
      ]
    },
    {
      "cell_type": "code",
      "source": [
        "#4.\n",
        "\n",
        "# Original array\n",
        "numbers = [5, 4, 3, 2, 1]\n",
        "\n",
        "# Reverse the order of the items in the array\n",
        "numbers.reverse()\n",
        "\n",
        "# Print the reversed array\n",
        "print(numbers)\n"
      ],
      "metadata": {
        "colab": {
          "base_uri": "https://localhost:8080/"
        },
        "id": "Q9EG5Iq9exen",
        "outputId": "db616a7f-0729-4238-ddb0-0461088680d1"
      },
      "execution_count": null,
      "outputs": [
        {
          "output_type": "stream",
          "name": "stdout",
          "text": [
            "[1, 2, 3, 4, 5]\n"
          ]
        }
      ]
    },
    {
      "cell_type": "code",
      "source": [
        "#5.\n",
        "\n",
        "# Original array\n",
        "numbers = [5, 4, 3, 2, 1]\n",
        "\n",
        "# Get the length of the array\n",
        "length = len(numbers)\n",
        "\n",
        "# Print the length of the array\n",
        "print(length)\n"
      ],
      "metadata": {
        "colab": {
          "base_uri": "https://localhost:8080/"
        },
        "id": "7tnX_Zm0exrd",
        "outputId": "99ac7722-38b1-4b36-8771-01214f3ba0a1"
      },
      "execution_count": null,
      "outputs": [
        {
          "output_type": "stream",
          "name": "stdout",
          "text": [
            "5\n"
          ]
        }
      ]
    }
  ]
}
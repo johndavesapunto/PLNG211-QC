{
  "nbformat": 4,
  "nbformat_minor": 0,
  "metadata": {
    "colab": {
      "provenance": [],
      "authorship_tag": "ABX9TyPkOtnLzRvMqL+WjWkWeZkM",
      "include_colab_link": true
    },
    "kernelspec": {
      "name": "python3",
      "display_name": "Python 3"
    },
    "language_info": {
      "name": "python"
    }
  },
  "cells": [
    {
      "cell_type": "markdown",
      "metadata": {
        "id": "view-in-github",
        "colab_type": "text"
      },
      "source": [
        "<a href=\"https://colab.research.google.com/github/johndavesapunto/PLNG211-QC/blob/main/Class_and_Object.ipynb\" target=\"_parent\"><img src=\"https://colab.research.google.com/assets/colab-badge.svg\" alt=\"Open In Colab\"/></a>"
      ]
    },
    {
      "cell_type": "code",
      "execution_count": null,
      "metadata": {
        "colab": {
          "base_uri": "https://localhost:8080/"
        },
        "id": "eQ5PqFxrKTO4",
        "outputId": "9de62c48-bdaa-4432-b437-59be0688a78a"
      },
      "outputs": [
        {
          "output_type": "stream",
          "name": "stdout",
          "text": [
            "The name of the person is: Ana\n",
            "The age of the person is: 36\n",
            "The name of the student is: Lino\n",
            "The age of the student is: 32\n",
            "The name of the teacher is : Maria\n",
            "The age of the teacher is : 39\n"
          ]
        }
      ],
      "source": [
        "class Person: \n",
        "  def __init__(self,name,age):\n",
        "    self.name = name\n",
        "    self.age = age\n",
        "class Student(Person):\n",
        "  pass\n",
        "class Teacher(Person):\n",
        "  pass\n",
        "person1 = Person(\"Ana\", 36)\n",
        "print(\"The name of the person is:\", person1.name)\n",
        "print(\"The age of the person is:\", person1.age)\n",
        "\n",
        "person2 = Student(\"Lino\", 32)\n",
        "print(\"The name of the student is:\", person2.name)\n",
        "print(\"The age of the student is:\", person2.age)\n",
        "\n",
        "person3 = Teacher(\"Maria\", 39)\n",
        "print(\"The name of the teacher is :\", person3.name)\n",
        "print(\"The age of the teacher is :\", person3.age)\n"
      ]
    },
    {
      "cell_type": "code",
      "source": [
        "person2.age = 30\n",
        "print(\"the student\", person2.name, \"is\", person2.age)"
      ],
      "metadata": {
        "colab": {
          "base_uri": "https://localhost:8080/"
        },
        "id": "cZrfhg1tWSnN",
        "outputId": "d20ab1cc-a7a4-4edd-f10c-ce1b4194e6cb"
      },
      "execution_count": null,
      "outputs": [
        {
          "output_type": "stream",
          "name": "stdout",
          "text": [
            "the student Lino is 30\n"
          ]
        }
      ]
    },
    {
      "cell_type": "code",
      "source": [
        "print(\"The name of the teacher is:\", person3.name)\n",
        "person3.age = 39\n",
        "print(\"The age of the teacher is:\", person3.age)\n",
        "\n",
        "del person3.age\n",
        "del person3.name\n",
        "print(\"The age of the teacher is:\", person3.age)"
      ],
      "metadata": {
        "colab": {
          "base_uri": "https://localhost:8080/",
          "height": 236
        },
        "id": "MV0NH8rLYTAW",
        "outputId": "e7ca839a-b641-4a97-e83c-ecc1049071a9"
      },
      "execution_count": null,
      "outputs": [
        {
          "output_type": "stream",
          "name": "stdout",
          "text": [
            "The name of the teacher is: Maria\n",
            "The age of the teacher is: 39\n"
          ]
        },
        {
          "output_type": "error",
          "ename": "AttributeError",
          "evalue": "ignored",
          "traceback": [
            "\u001b[0;31m---------------------------------------------------------------------------\u001b[0m",
            "\u001b[0;31mAttributeError\u001b[0m                            Traceback (most recent call last)",
            "\u001b[0;32m<ipython-input-39-bc702efaec27>\u001b[0m in \u001b[0;36m<module>\u001b[0;34m\u001b[0m\n\u001b[1;32m      5\u001b[0m \u001b[0;32mdel\u001b[0m \u001b[0mperson3\u001b[0m\u001b[0;34m.\u001b[0m\u001b[0mage\u001b[0m\u001b[0;34m\u001b[0m\u001b[0;34m\u001b[0m\u001b[0m\n\u001b[1;32m      6\u001b[0m \u001b[0;32mdel\u001b[0m \u001b[0mperson3\u001b[0m\u001b[0;34m.\u001b[0m\u001b[0mname\u001b[0m\u001b[0;34m\u001b[0m\u001b[0;34m\u001b[0m\u001b[0m\n\u001b[0;32m----> 7\u001b[0;31m \u001b[0mprint\u001b[0m\u001b[0;34m(\u001b[0m\u001b[0;34m\"The age of the teacher is:\"\u001b[0m\u001b[0;34m,\u001b[0m \u001b[0mperson3\u001b[0m\u001b[0;34m.\u001b[0m\u001b[0mage\u001b[0m\u001b[0;34m)\u001b[0m\u001b[0;34m\u001b[0m\u001b[0;34m\u001b[0m\u001b[0m\n\u001b[0m",
            "\u001b[0;31mAttributeError\u001b[0m: 'Teacher' object has no attribute 'age'"
          ]
        }
      ]
    },
    {
      "cell_type": "code",
      "source": [
        "#Application 1 Write a rectangle class in Python Language with length and width as attributes\n",
        "#Create a Perimeter () and Area () as methods to compute for the perimeter and area of a rectangle\n",
        "\n",
        "class Rectangle:\n",
        "  def __init__(self,width,height):\n",
        "    self.width = width\n",
        "    self.height = height\n",
        "\n",
        "rectangle = Rectangle(6, 4)\n",
        "print(rectangle.width, rectangle.height)\n",
        "def perimeter(num1, num2):\n",
        "  per = (num1+num2)*2\n",
        "  return print(\"Perimeter of the rectangle :\", per)\n",
        "def area(num1, num2):\n",
        "  a = num1*num2\n",
        "  return print(\"Area of the rectangle : \", a)\n",
        "perimeter(rectangle.width, rectangle.height)\n",
        "area(rectangle.width, rectangle.height)"
      ],
      "metadata": {
        "colab": {
          "base_uri": "https://localhost:8080/"
        },
        "id": "8pUcoSjeZBTp",
        "outputId": "e0a58dcd-404a-41f4-b6e8-3d2eef8787b8"
      },
      "execution_count": null,
      "outputs": [
        {
          "output_type": "stream",
          "name": "stdout",
          "text": [
            "6 4\n",
            "Perimeter of the rectangle : 20\n",
            "Area of the rectangle :  24\n"
          ]
        }
      ]
    }
  ]
}
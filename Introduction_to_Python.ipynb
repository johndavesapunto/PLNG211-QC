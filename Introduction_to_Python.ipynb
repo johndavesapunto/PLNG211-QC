{
  "nbformat": 4,
  "nbformat_minor": 0,
  "metadata": {
    "colab": {
      "provenance": [],
      "include_colab_link": true
    },
    "kernelspec": {
      "name": "python3",
      "display_name": "Python 3"
    },
    "language_info": {
      "name": "python"
    }
  },
  "cells": [
    {
      "cell_type": "markdown",
      "metadata": {
        "id": "view-in-github",
        "colab_type": "text"
      },
      "source": [
        "<a href=\"https://colab.research.google.com/github/johndavesapunto/PLNG211-QC/blob/main/Introduction_to_Python.ipynb\" target=\"_parent\"><img src=\"https://colab.research.google.com/assets/colab-badge.svg\" alt=\"Open In Colab\"/></a>"
      ]
    },
    {
      "cell_type": "code",
      "source": [],
      "metadata": {
        "id": "6ynGeO_jwVyU"
      },
      "execution_count": null,
      "outputs": []
    },
    {
      "cell_type": "markdown",
      "source": [
        "Python Indentation"
      ],
      "metadata": {
        "id": "1YtSf0RpqONX"
      }
    },
    {
      "cell_type": "code",
      "source": [
        "print(9+10) \n",
        "print(10-9) \n",
        "print(10*9) \n",
        "print(10/5)"
      ],
      "metadata": {
        "id": "F6XFxoagpUnC",
        "outputId": "cb09dd73-57d8-4380-d977-fe06b77b348c",
        "colab": {
          "base_uri": "https://localhost:8080/"
        }
      },
      "execution_count": 2,
      "outputs": [
        {
          "output_type": "stream",
          "name": "stdout",
          "text": [
            "19\n",
            "1\n",
            "90\n",
            "2.0\n"
          ]
        }
      ]
    },
    {
      "cell_type": "code",
      "source": [
        "x = 4\n",
        "x+= 3\n",
        "print(x)"
      ],
      "metadata": {
        "id": "cYHqJ34lt8Sj",
        "outputId": "6dd6dc85-4e5c-4318-8b24-1aad6f3eafd4",
        "colab": {
          "base_uri": "https://localhost:8080/"
        }
      },
      "execution_count": 3,
      "outputs": [
        {
          "output_type": "stream",
          "name": "stdout",
          "text": [
            "7\n"
          ]
        }
      ]
    },
    {
      "cell_type": "code",
      "source": [
        "(6==6) or (6!=6)"
      ],
      "metadata": {
        "id": "n_7O9Ktguq_e",
        "outputId": "c6104a1f-b636-4bf2-cc55-67464c5a5cc5",
        "colab": {
          "base_uri": "https://localhost:8080/"
        }
      },
      "execution_count": 6,
      "outputs": [
        {
          "output_type": "execute_result",
          "data": {
            "text/plain": [
              "True"
            ]
          },
          "metadata": {},
          "execution_count": 6
        }
      ]
    },
    {
      "cell_type": "code",
      "source": [
        "print (4 is 4)\n",
        "print (7 is not 7)"
      ],
      "metadata": {
        "id": "-qcBpwgCvzuH",
        "outputId": "671cf2c5-6e38-4a96-ba6c-c93901f3009d",
        "colab": {
          "base_uri": "https://localhost:8080/"
        }
      },
      "execution_count": 8,
      "outputs": [
        {
          "output_type": "stream",
          "name": "stdout",
          "text": [
            "True\n",
            "False\n"
          ]
        }
      ]
    },
    {
      "cell_type": "code",
      "source": [
        "#Python indentation example (labeling)\n",
        "\n",
        "if 5>2:\n",
        "  print(\"5 is greater than 2\")"
      ],
      "metadata": {
        "colab": {
          "base_uri": "https://localhost:8080/"
        },
        "id": "rmDli4aSqTeQ",
        "outputId": "114a2860-a6b0-4e65-86e7-cb4fc3c42c85"
      },
      "execution_count": null,
      "outputs": [
        {
          "output_type": "stream",
          "name": "stdout",
          "text": [
            "5 is greater than 2\n"
          ]
        }
      ]
    },
    {
      "cell_type": "markdown",
      "source": [
        "Python Variables"
      ],
      "metadata": {
        "id": "ebMaY4X6svkV"
      }
    },
    {
      "cell_type": "code",
      "source": [
        "x = 1\n",
        "a, b = 0,-1\n",
        "print(a)\n",
        "c = \"Sally\"\n",
        "c = \"Danny\"\n",
        "#Code is read by line so the newer declaration will be read.\n",
        "print(c)\n",
        "c = \"Maria\""
      ],
      "metadata": {
        "colab": {
          "base_uri": "https://localhost:8080/"
        },
        "id": "m9CpidKPsx7m",
        "outputId": "dcca0779-1617-41cb-d134-ff4683001fbe"
      },
      "execution_count": null,
      "outputs": [
        {
          "output_type": "stream",
          "name": "stdout",
          "text": [
            "0\n",
            "Danny\n"
          ]
        }
      ]
    },
    {
      "cell_type": "code",
      "source": [
        "print(c) \n",
        "#Code cell will print latest (c) declaration from previous cell."
      ],
      "metadata": {
        "colab": {
          "base_uri": "https://localhost:8080/"
        },
        "id": "7qusPmJTtyZG",
        "outputId": "b2b0061e-6d7c-476a-b5d2-152538e32584"
      },
      "execution_count": null,
      "outputs": [
        {
          "output_type": "stream",
          "name": "stdout",
          "text": [
            "Maria\n"
          ]
        }
      ]
    },
    {
      "cell_type": "markdown",
      "source": [
        "Multiple Variables"
      ],
      "metadata": {
        "id": "_KoFVc3kxEQn"
      }
    },
    {
      "cell_type": "code",
      "source": [
        "#Multiple variables with declarations in a single line.\n",
        "f, g, h = \"one\", \"two\", \"three\"\n",
        "print(f)\n",
        "print(g)\n",
        "print(h)"
      ],
      "metadata": {
        "colab": {
          "base_uri": "https://localhost:8080/"
        },
        "id": "XrdvKsNnxGGV",
        "outputId": "6c1bdd51-75d3-499f-a935-1ef8c85ddf28"
      },
      "execution_count": null,
      "outputs": [
        {
          "output_type": "stream",
          "name": "stdout",
          "text": [
            "one\n",
            "two\n",
            "three\n"
          ]
        }
      ]
    },
    {
      "cell_type": "markdown",
      "source": [
        "Python Casting"
      ],
      "metadata": {
        "id": "3_CyLg6tuqrL"
      }
    },
    {
      "cell_type": "code",
      "source": [
        "#Explicit type casting\n",
        "#Python needs user involvement to convert the variable data type into certain data type.\n",
        "d = int(4)\n",
        "print(d)\n",
        "e = float(4)\n",
        "print(e)"
      ],
      "metadata": {
        "colab": {
          "base_uri": "https://localhost:8080/"
        },
        "id": "2YoPWty9usb_",
        "outputId": "54a7acd5-e4a6-4a64-c284-a133cafd12e0"
      },
      "execution_count": null,
      "outputs": [
        {
          "output_type": "stream",
          "name": "stdout",
          "text": [
            "4\n",
            "4.0\n"
          ]
        }
      ]
    },
    {
      "cell_type": "code",
      "source": [
        "#Implicit type casting\n",
        "#Python automatically converts data types.\n",
        "d = 4.0\n",
        "e = 4\n",
        "print(type(d))\n",
        "print(type(e))"
      ],
      "metadata": {
        "colab": {
          "base_uri": "https://localhost:8080/"
        },
        "id": "I62I5oWlvtgg",
        "outputId": "6636120f-ba99-414c-c093-e9e2811e1143"
      },
      "execution_count": null,
      "outputs": [
        {
          "output_type": "stream",
          "name": "stdout",
          "text": [
            "<class 'float'>\n",
            "<class 'int'>\n"
          ]
        }
      ]
    },
    {
      "cell_type": "markdown",
      "source": [
        "Single Quote or Double Quote"
      ],
      "metadata": {
        "id": "Jt4IcNZnwpZZ"
      }
    },
    {
      "cell_type": "code",
      "source": [
        "print('Look')\n",
        "print(\"Look\")\n",
        "#Single or double quotation in python is interchangeable."
      ],
      "metadata": {
        "colab": {
          "base_uri": "https://localhost:8080/"
        },
        "id": "O4KwFVgswupi",
        "outputId": "128f4dad-91ff-4caa-a7f6-2992b4e45f02"
      },
      "execution_count": null,
      "outputs": [
        {
          "output_type": "stream",
          "name": "stdout",
          "text": [
            "Look\n",
            "Look\n"
          ]
        }
      ]
    },
    {
      "cell_type": "markdown",
      "source": [
        "Single Value to Multiple Variables"
      ],
      "metadata": {
        "id": "zvA9JqIFxxyX"
      }
    },
    {
      "cell_type": "code",
      "source": [
        "#Since x is equal to y and z, a single value can be stored in multiple variables in the declaration.\n",
        "x=y=z=\"Lilo\"\n",
        "print(x)\n",
        "print(y)\n",
        "print(z)"
      ],
      "metadata": {
        "id": "tgfVtbFfx0X4"
      },
      "execution_count": null,
      "outputs": []
    },
    {
      "cell_type": "markdown",
      "source": [
        "Output Variables"
      ],
      "metadata": {
        "id": "N6WQh649yRNZ"
      }
    },
    {
      "cell_type": "code",
      "source": [
        "#Print displays output of variables.\n",
        "s = \"Python\"\n",
        "t = \"is\"\n",
        "r = \"fun\"\n",
        "print(s + t + r)\n",
        "#No blank space declared in the variables. Can be added with a single/double quotation in the equation.\n",
        "print (s +' ' + t + ' '+ r)"
      ],
      "metadata": {
        "colab": {
          "base_uri": "https://localhost:8080/"
        },
        "id": "h3PdmufIySxG",
        "outputId": "49b49d3a-02df-4ae2-f5f6-1cc6c7356a69"
      },
      "execution_count": null,
      "outputs": [
        {
          "output_type": "stream",
          "name": "stdout",
          "text": [
            "Pythonisfun\n",
            "Python is fun\n"
          ]
        }
      ]
    },
    {
      "cell_type": "markdown",
      "source": [
        "Arithmetics"
      ],
      "metadata": {
        "id": "wOW6Cp_jz7zZ"
      }
    },
    {
      "cell_type": "code",
      "source": [
        "u = 5\n",
        "i = 4\n",
        "sum = u + i\n",
        "#Values will be declared in the variable sum \n",
        "print(sum)\n",
        "\n",
        "#Modulo division\n",
        "l = 4%2\n",
        "print(\"4%2\", l)\n",
        "\n",
        "#Floor division\n",
        "k = 3//2\n",
        "print(\"3//2\", k)"
      ],
      "metadata": {
        "colab": {
          "base_uri": "https://localhost:8080/"
        },
        "id": "yzqFXZTvz9LQ",
        "outputId": "cba8051a-3f90-45cf-9531-77237128fbd8"
      },
      "execution_count": null,
      "outputs": [
        {
          "output_type": "stream",
          "name": "stdout",
          "text": [
            "9\n",
            "4%2 0\n",
            "3//2 1\n"
          ]
        }
      ]
    }
  ]
}
{
  "nbformat": 4,
  "nbformat_minor": 0,
  "metadata": {
    "colab": {
      "provenance": [],
      "authorship_tag": "ABX9TyMIQ8lijgvLGjBcRwzsLMV9",
      "include_colab_link": true
    },
    "kernelspec": {
      "name": "python3",
      "display_name": "Python 3"
    },
    "language_info": {
      "name": "python"
    }
  },
  "cells": [
    {
      "cell_type": "markdown",
      "metadata": {
        "id": "view-in-github",
        "colab_type": "text"
      },
      "source": [
        "<a href=\"https://colab.research.google.com/github/johndavesapunto/PLNG211-QC/blob/main/Python_Functions.ipynb\" target=\"_parent\"><img src=\"https://colab.research.google.com/assets/colab-badge.svg\" alt=\"Open In Colab\"/></a>"
      ]
    },
    {
      "cell_type": "code",
      "execution_count": null,
      "metadata": {
        "id": "GAhN1-kuSsEc"
      },
      "outputs": [],
      "source": [
        "#Writing your own function/conversion\n",
        "\n",
        "def convert_to_celsius(fahrenheit):\n",
        "  return ((fahrenheit-32) * 5/9)\n",
        "\n",
        "def convert_to_kelvin(fahrenheit):\n",
        "  return (((fahrenheit - 32) * 5/9) + 273.15)\n",
        "fahrenheit = int(input(\"fahrenheit: \"))\n",
        "\n",
        "print(\"Celcius\", round(convert_to_celsius(fahrenheit), 2))\n",
        "print(\"Kelvin\", round(convert_to_kelvin(fahrenheit), 2))"
      ]
    },
    {
      "cell_type": "code",
      "source": [
        "def Name():\n",
        "  pass"
      ],
      "metadata": {
        "id": "lXVN0LQuVbzA"
      },
      "execution_count": null,
      "outputs": []
    },
    {
      "cell_type": "code",
      "source": [
        "def my_function(fname):\n",
        "  return(fname + \"Sayo\")\n",
        "\n",
        "print(my_function(\"Mam\"))\n",
        "print(my_function(\"Maria\"))\n",
        "print(my_function(\"Rizette\"))"
      ],
      "metadata": {
        "colab": {
          "base_uri": "https://localhost:8080/"
        },
        "id": "EUi4GzIjaOKX",
        "outputId": "55d4625a-68bd-4da9-9ae0-e0e6a4ba9a3c"
      },
      "execution_count": null,
      "outputs": [
        {
          "output_type": "stream",
          "name": "stdout",
          "text": [
            "MamSayo\n",
            "MariaSayo\n",
            "RizetteSayo\n"
          ]
        }
      ]
    },
    {
      "cell_type": "code",
      "source": [
        "#Returns a value\n",
        "\n",
        "def myFunctions(x):\n",
        "  return(5+x)\n",
        "  \n",
        "print(myFunctions(4))\n",
        "print(myFunctions(5))\n",
        "print(myFunctions(6))"
      ],
      "metadata": {
        "colab": {
          "base_uri": "https://localhost:8080/"
        },
        "id": "B_jRe62dbOTD",
        "outputId": "9cbdec79-ae92-47b1-fde1-4c2e12963009"
      },
      "execution_count": null,
      "outputs": [
        {
          "output_type": "stream",
          "name": "stdout",
          "text": [
            "9\n",
            "10\n",
            "11\n"
          ]
        }
      ]
    },
    {
      "cell_type": "code",
      "source": [
        "#Exercise 1\n",
        "\n",
        "#A\n",
        "\n",
        "print(min(2, 3 , 4))\n",
        "#B\n",
        "print(max(2, -3, 4, 7, -5))\n",
        "#C\n",
        "print(max(2, -3, min(4, 7), -5))"
      ],
      "metadata": {
        "id": "jKCRO_p9agKX",
        "colab": {
          "base_uri": "https://localhost:8080/"
        },
        "outputId": "9e3a7eda-8258-4eff-8c07-7411992b50d5"
      },
      "execution_count": null,
      "outputs": [
        {
          "output_type": "stream",
          "name": "stdout",
          "text": [
            "2\n",
            "7\n",
            "4\n"
          ]
        }
      ]
    },
    {
      "cell_type": "code",
      "source": [
        "#Exercise 2\n",
        "\n",
        "num1 = int(input(\"Enter number 1: \"))\n",
        "num2 = int(input(\"Enter number 2: \"))\n",
        "num3 = int(input(\"Enter number 3: \"))\n",
        "\n",
        "def toSum(num1,num2,num3):\n",
        "  return((num1+num2+num3))\n",
        "print(\"Sum:\", toSum(num1,num2,num3))\n",
        "\n",
        "def toAverage(num1,num2,num3):\n",
        "  return((num1+num2+num3)/3)\n",
        "print(\"Average: \", round(toAverage(num1,num2,num3)))\n",
        "def sumOfSquare(num1,num2,num3):\n",
        "  return(pow(num1, 2)+ pow(num2, 2)+ pow(num3, 2))\n",
        "print(\"Sum of square: \", sumOfSquare(num1,num2,num3))"
      ],
      "metadata": {
        "id": "epWq343ScohJ",
        "colab": {
          "base_uri": "https://localhost:8080/"
        },
        "outputId": "4dd22de2-f126-44a7-b4e1-c0cdf87b75e7"
      },
      "execution_count": null,
      "outputs": [
        {
          "output_type": "stream",
          "name": "stdout",
          "text": [
            "Enter number 1: 80\n",
            "Enter number 2: 85\n",
            "Enter number 3: 90\n",
            "Sum: 255\n",
            "Average:  85\n",
            "Sum of square:  21725\n"
          ]
        }
      ]
    }
  ]
}
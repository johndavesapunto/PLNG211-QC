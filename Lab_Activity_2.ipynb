{
  "nbformat": 4,
  "nbformat_minor": 0,
  "metadata": {
    "colab": {
      "provenance": [],
      "authorship_tag": "ABX9TyN1OEmnLs4cxX035CRZwlqg",
      "include_colab_link": true
    },
    "kernelspec": {
      "name": "python3",
      "display_name": "Python 3"
    },
    "language_info": {
      "name": "python"
    }
  },
  "cells": [
    {
      "cell_type": "markdown",
      "metadata": {
        "id": "view-in-github",
        "colab_type": "text"
      },
      "source": [
        "<a href=\"https://colab.research.google.com/github/johndavesapunto/PLNG211-QC/blob/main/Lab_Activity_2.ipynb\" target=\"_parent\"><img src=\"https://colab.research.google.com/assets/colab-badge.svg\" alt=\"Open In Colab\"/></a>"
      ]
    },
    {
      "cell_type": "code",
      "execution_count": 16,
      "metadata": {
        "colab": {
          "base_uri": "https://localhost:8080/"
        },
        "id": "o0YlNNvzqt1E",
        "outputId": "4d7567b0-283d-43a1-883c-bfec5a23a8bf"
      },
      "outputs": [
        {
          "output_type": "stream",
          "name": "stdout",
          "text": [
            "Name:  John Dave\n",
            "Student number:  0218-0111-821\n",
            "Age:  25\n",
            "Course:  Computer Science\n"
          ]
        }
      ],
      "source": [
        "#1. Write a Python to display your full name, student number, age, and course \n",
        "\n",
        "\n",
        "# Full name\n",
        "name = \"John Dave\"\n",
        "\n",
        "# Student number\n",
        "student_number = \"0218-0111-821\"\n",
        "\n",
        "# Age\n",
        "age = 25\n",
        "\n",
        "# Course\n",
        "course = \"Computer Science\"\n",
        "\n",
        "# Print the information\n",
        "print(\"Name: \", name)\n",
        "print(\"Student number: \", student_number)\n",
        "print(\"Age: \", age)\n",
        "print(\"Course: \", course)\n"
      ]
    },
    {
      "cell_type": "code",
      "source": [
        "#2. Create a class named Student with attributes: Name, Student_No, Age, School, and Course \n",
        "\n",
        "class Student:\n",
        "    def __init__(self, name, student_number, age, school, course):\n",
        "        self.name = name\n",
        "        self.student_number = student_number\n",
        "        self.age = age\n",
        "        self.school = school\n",
        "        self.course = course\n",
        "    \n",
        "    def Info(self):\n",
        "        print(\"Name: \", self.name)\n",
        "        print(\"Student number: \", self.student_number)\n",
        "        print(\"Age: \", self.age)\n",
        "        print(\"School: \", self.school)\n",
        "        print(\"Course: \", self.course)\n",
        "\n",
        "#3. Create an object name Myself and assign an instance for each attribute. \n",
        "\n",
        "Myself = Student(\"John Dave\", \"0218-0111-821\", 20, \"Our Lady of Fatima University\", \"Computer Science\")\n",
        "\n",
        "#4. Create a method Info() using an instantiation of a class. \n",
        "\n",
        "Myself.Info()"
      ],
      "metadata": {
        "colab": {
          "base_uri": "https://localhost:8080/"
        },
        "id": "_mLxqZfJsroE",
        "outputId": "a33f251f-d320-4e1f-a2d5-e98b615999dc"
      },
      "execution_count": 18,
      "outputs": [
        {
          "output_type": "stream",
          "name": "stdout",
          "text": [
            "Name:  John Dave\n",
            "Student number:  0218-0111-821\n",
            "Age:  20\n",
            "School:  Our Lady of Fatima University\n",
            "Course:  Computer Science\n"
          ]
        }
      ]
    }
  ]
}